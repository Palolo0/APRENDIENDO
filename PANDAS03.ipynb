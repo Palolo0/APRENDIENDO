{
 "cells": [
  {
   "cell_type": "code",
   "execution_count": 2,
   "metadata": {},
   "outputs": [
    {
     "name": "stdout",
     "output_type": "stream",
     "text": [
      "                  NOMBRE       APELLIDO  \\\n",
      "9          JORGE JACINTO       SIGUENZA   \n",
      "40      FELIPE FRANCISCO         JORNET   \n",
      "42         PABLO ALFONSO  GARCIA CUEVAS   \n",
      "56          PETER ROBERT         ALANES   \n",
      "62      FRANCISCO XAVIER         BAQUER   \n",
      "...                  ...            ...   \n",
      "499929      PEDRO SERGIO         DE COS   \n",
      "499977   JOAQUIM AUGUSTO        AZCUTIA   \n",
      "499982   RICARDO JOAQUIN        ARNELAS   \n",
      "499984       HUGO HERNAN         ESCOTO   \n",
      "499998     AURELIO ANGEL         BOLDEA   \n",
      "\n",
      "                                       POBLACIÓN     FECHA-NACIMIENTO  EDAD  \\\n",
      "9                                        Euskadi  2020-04-03 00:00:00  99.0   \n",
      "40                                         Álava  2002-06-10 00:00:00  98.0   \n",
      "42                                       Hombres  2021-01-05 00:00:00  99.0   \n",
      "56                                         Álava  1998-01-10 00:00:00  98.0   \n",
      "62                                       Euskadi           18/11/2008  99.0   \n",
      "...                                          ...                  ...   ...   \n",
      "499929                                  Gipuzkoa           22/01/2009  99.0   \n",
      "499977                                  Gipuzkoa           28/09/1994  99.0   \n",
      "499982                                   Euskadi           20/05/2018  98.0   \n",
      "499984  Nacimientos de madres menores de 35 años           22/02/2008  99.0   \n",
      "499998                                     Álava  2011-04-10 00:00:00  99.0   \n",
      "\n",
      "           VALORES  SALARIO  \n",
      "9       348.166667   2680.8  \n",
      "40       88.166667   2358.9  \n",
      "42      123.166667   1872.0  \n",
      "56      428.166667    766.8  \n",
      "62      433.166667   2666.7  \n",
      "...            ...      ...  \n",
      "499929  348.166667   1028.1  \n",
      "499977  328.166667   1182.6  \n",
      "499982  363.166667    727.5  \n",
      "499984  353.166667    666.0  \n",
      "499998   48.166667   1117.5  \n",
      "\n",
      "[10209 rows x 7 columns]\n"
     ]
    }
   ],
   "source": [
    "#este programa lee varios archivos json, xlsx y csv \n",
    "# y crea un archivo.csv de 500.000 filas con esos valores aleatoriamente\n",
    "# \n",
    "# \n",
    "import pandas as pd\n",
    "import numpy as np\n",
    "\n",
    "# Leer archivos CSV, JSON y XLSX\n",
    "df_csv1 = pd.read_csv(\"hombres.csv\")\n",
    "df_csv2 = pd.read_csv(\"apellidos.csv\")\n",
    "df_json = pd.read_json('poblaciones.json')\n",
    "df_xlsx1 = pd.read_excel('Fechas.xlsx')\n",
    "\n",
    "#coge las columnas necesarias de cada archivo leido y las mete en un dataframe \n",
    "# (df_combined)\n",
    "\n",
    "df_combined = pd.DataFrame()\n",
    "df_combined['NOMBRE'] = df_csv1['nombre']\n",
    "df_combined['APELLIDO'] = df_csv2['apellido']\n",
    "df_combined['POBLACIÓN'] = df_json['Categoria2Valor']\n",
    "df_combined['FECHA-NACIMIENTO'] = df_xlsx1['Fechas']\n",
    "df_combined['EDAD'] = df_xlsx1['Edad']\n",
    "df_combined['VALORES'] = df_xlsx1['valores']\n",
    "df_combined['SALARIO'] = df_xlsx1['salario']\n",
    "\n",
    "# Combinar los DataFrames\n",
    "#df_combined = pd.concat([df_csv, df_json, df_xlsx], ignore_index=True)\n",
    "#reinicia los indices\n",
    "df_combined.reset_index(drop=True, inplace=True)\n",
    "#crea un archivo con los datos de todos los archivos, sin multiplicar filas. \n",
    "# Asi tendre datos nulos para pruebas\n",
    "df_combined.to_csv('archivo_combinado_datos_nulos.csv', index=False)\n",
    "# Crear un DataFrame vacío con las mismas columnas\n",
    "df_expanded = pd.DataFrame(columns=df_combined.columns)\n",
    "\n",
    "# Para cada columna, seleccionar aleatoriamente 500,000 valores, omitiendo valores nulos\n",
    "for column in df_combined.columns:\n",
    "    #La siguiente linea de código coge los valores de una columna eliminando los nulos\n",
    "    # y los mete en el df non_nnull_values\n",
    "    non_null_values = df_combined[column].dropna().values\n",
    "    #La siguiente linea es para generar un error si la columna estuviese vacia.\n",
    "    if len(non_null_values) == 0:\n",
    "        raise ValueError(f\"No hay datos no nulos suficientes en la columna {column} para crear el DataFrame de 500,000 filas\")\n",
    "    \n",
    "    #esta line coge aleatoriamente valores de la columna creada non null values \n",
    "    # con reemplazamiento (se puede repetir) hasta 500.000 filas\n",
    "    sampled_values = np.random.choice(non_null_values, 500000, replace=True)\n",
    "    #Esta graba la columna en la columna correspondiente del data frame expanded \n",
    "    df_expanded[column] = sampled_values\n",
    "\n",
    "# Desordenar las filas y resetear los índices, sin reemplazamiento, porque no queremos\n",
    "# que se repita\n",
    "df_expanded = df_expanded.sample(frac=1, random_state=42).reset_index(drop=True)\n",
    "df_expanded\n",
    "\n",
    "# Para cada columna en el DataFrame combinado\n",
    "#for column in df_combined.columns:\n",
    "    # Muestrear al azar con reemplazo para crear 500,000 entradas en esta columna\n",
    "    #df_large[column] = np.random.choice(df_combined[column], 8, replace=True)\n",
    "\n",
    "# Desordenar las filas del DataFrame resultante\n",
    "#df_large = df_large.sample(frac=1).reset_index(drop=True)\n",
    "#df_large\n",
    "# Guardar el nuevo DataFrame en un archivo\n",
    "\n",
    "df_expanded.to_csv('archivo_grande.csv', index=False)\n",
    "#añadir esto (después de index=False) si quiero que los separadores decimales sean comas: \n",
    "# , sep=\";\", decimal=\",\"\n",
    "df_expanded\n",
    "resultado=df_expanded.query('EDAD >= 98')\n",
    "print(resultado)\n"
   ]
  },
  {
   "cell_type": "code",
   "execution_count": 27,
   "metadata": {},
   "outputs": [
    {
     "name": "stdout",
     "output_type": "stream",
     "text": [
      "Index(['NOMBRE', 'APELLIDO', 'POBLACIÓN', 'FECHA-NACIMIENTO', 'EDAD'], dtype='object')\n",
      "NOMBRE\n"
     ]
    },
    {
     "data": {
      "text/plain": [
       "array(['ANTONIO', 'JOSE', 'MANUEL', ..., 'ZBIGNIEW JAN', 'ZHENGPING',\n",
       "       'ZLATAN'], dtype=object)"
      ]
     },
     "execution_count": 27,
     "metadata": {},
     "output_type": "execute_result"
    }
   ],
   "source": [
    "#Pruebas a descartar:\n",
    "column='NOMBRE'\n",
    "print(columns)\n",
    "print(column)\n",
    "non_null_values =df_combined[column].dropna().values\n",
    "non_null_values"
   ]
  },
  {
   "cell_type": "code",
   "execution_count": 28,
   "metadata": {},
   "outputs": [],
   "source": [
    "#Pruebas a descartar:\n",
    "def aceptar_numero_positivo(numero):\n",
    "    if numero <= 0:\n",
    "        raise ValueError(\"Solo se permiten números positivos\")"
   ]
  }
 ],
 "metadata": {
  "kernelspec": {
   "display_name": "Python 3",
   "language": "python",
   "name": "python3"
  },
  "language_info": {
   "codemirror_mode": {
    "name": "ipython",
    "version": 3
   },
   "file_extension": ".py",
   "mimetype": "text/x-python",
   "name": "python",
   "nbconvert_exporter": "python",
   "pygments_lexer": "ipython3",
   "version": "3.11.9"
  }
 },
 "nbformat": 4,
 "nbformat_minor": 2
}
