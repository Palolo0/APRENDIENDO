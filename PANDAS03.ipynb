{
 "cells": [
  {
   "cell_type": "code",
   "execution_count": 2,
   "metadata": {},
   "outputs": [
    {
     "name": "stdout",
     "output_type": "stream",
     "text": [
      "                   NOMBRE     APELLIDO         POBLACIÓN     FECHA-NACIMIENTO  \\\n",
      "29                   ICAR       SEGUES           Euskadi           27/04/1995   \n",
      "32              LUIS SAUL        BACAS             Álava           22/02/2008   \n",
      "42               CRISPULO        MEDES  Saldo migratorio           17/09/2006   \n",
      "104        ADRIANO MANUEL    PRESMANES             Total           31/07/1997   \n",
      "125      INDALECIO MANUEL  DE LA VARGA          Gipuzkoa           28/09/1994   \n",
      "...                   ...          ...               ...                  ...   \n",
      "499792     UBALDO ANTONIO   GALLASTEGI             Álava  1999-09-12 00:00:00   \n",
      "499828    ADRIAN FERNANDO       REPISO             Álava  2007-03-06 00:00:00   \n",
      "499953   CONSTANTIN MIHAI        RAFIQ           Hombres           18/09/2006   \n",
      "499973  MARCELO SEBASTIAN      USTARIZ           Mujeres           17/06/2011   \n",
      "499994              KOLDO        LLAMA             Álava           19/09/1996   \n",
      "\n",
      "        EDAD     VALORES  SALARIO  \n",
      "29      99.0  443.166667   2464.8  \n",
      "32      98.0   98.166667    862.5  \n",
      "42      98.0  408.166667    741.0  \n",
      "104     98.0  323.166667   1368.0  \n",
      "125     99.0  228.166667    400.2  \n",
      "...      ...         ...      ...  \n",
      "499792  99.0  408.166667   2358.9  \n",
      "499828  99.0  198.166667   2503.2  \n",
      "499953  99.0  518.166667    816.0  \n",
      "499973  98.0  358.166667   1785.3  \n",
      "499994  98.0  468.166667    727.5  \n",
      "\n",
      "[10076 rows x 7 columns]\n"
     ]
    }
   ],
   "source": [
    "#este programa lee varios archivos json, xlsx y csv \n",
    "# y crea un archivo.csv de 500.000 filas con esos valores aleatoriamente\n",
    "# \n",
    "# \n",
    "import pandas as pd\n",
    "import numpy as np\n",
    "\n",
    "# Leer archivos CSV, JSON y XLSX\n",
    "df_csv1 = pd.read_csv(\"hombres.csv\")\n",
    "df_csv2 = pd.read_csv(\"apellidos.csv\")\n",
    "df_json = pd.read_json('poblaciones.json')\n",
    "df_xlsx1 = pd.read_excel('Fechas.xlsx')\n",
    "\n",
    "#coge las columnas necesarias de cada archivo leido y las mete en un dataframe \n",
    "# (df_combined)\n",
    "\n",
    "df_combined = pd.DataFrame()\n",
    "df_combined['NOMBRE'] = df_csv1['nombre']\n",
    "df_combined['APELLIDO'] = df_csv2['apellido']\n",
    "df_combined['POBLACIÓN'] = df_json['Categoria2Valor']\n",
    "df_combined['FECHA-NACIMIENTO'] = df_xlsx1['Fechas']\n",
    "df_combined['EDAD'] = df_xlsx1['Edad']\n",
    "df_combined['VALORES'] = df_xlsx1['valores']\n",
    "df_combined['SALARIO'] = df_xlsx1['salario']\n",
    "\n",
    "# Combinar los DataFrames\n",
    "#df_combined = pd.concat([df_csv, df_json, df_xlsx], ignore_index=True)\n",
    "#reinicia los indices\n",
    "df_combined.reset_index(drop=True, inplace=True)\n",
    "\n",
    "# Crear un DataFrame vacío con las mismas columnas\n",
    "df_expanded = pd.DataFrame(columns=df_combined.columns)\n",
    "\n",
    "# Para cada columna, seleccionar aleatoriamente 500,000 valores, omitiendo valores nulos\n",
    "for column in df_combined.columns:\n",
    "    #La siguiente linea de código coge los valores de una columna eliminando los nulos\n",
    "    # y los mete en el df non_nnull_values\n",
    "    non_null_values = df_combined[column].dropna().values\n",
    "    #La siguiente linea es para generar un error si la columna estuviese vacia.\n",
    "    if len(non_null_values) == 0:\n",
    "        raise ValueError(f\"No hay datos no nulos suficientes en la columna {column} para crear el DataFrame de 500,000 filas\")\n",
    "    \n",
    "    #esta line coge aleatoriamente valores de la columna creada non null values \n",
    "    # con reemplazamiento (se puede repetir) hasta 500.000 filas\n",
    "    sampled_values = np.random.choice(non_null_values, 500000, replace=True)\n",
    "    #Esta graba la columna en la columna correspondiente del data frame expanded \n",
    "    df_expanded[column] = sampled_values\n",
    "\n",
    "# Desordenar las filas y resetear los índices, sin reemplazamiento, porque no queremos\n",
    "# que se repita\n",
    "df_expanded = df_expanded.sample(frac=1, random_state=42).reset_index(drop=True)\n",
    "df_expanded\n",
    "\n",
    "# Para cada columna en el DataFrame combinado\n",
    "#for column in df_combined.columns:\n",
    "    # Muestrear al azar con reemplazo para crear 500,000 entradas en esta columna\n",
    "    #df_large[column] = np.random.choice(df_combined[column], 8, replace=True)\n",
    "\n",
    "# Desordenar las filas del DataFrame resultante\n",
    "#df_large = df_large.sample(frac=1).reset_index(drop=True)\n",
    "#df_large\n",
    "# Guardar el nuevo DataFrame en un archivo\n",
    "\n",
    "df_expanded.to_csv('archivo_grande.csv', index=False)\n",
    "#añadir esto (después de index=False) si quiero que los separadores decimales sean comas: \n",
    "# , sep=\";\", decimal=\",\"\n",
    "df_expanded\n",
    "resultado=df_expanded.query('EDAD >= 98')\n",
    "print(resultado)\n"
   ]
  },
  {
   "cell_type": "code",
   "execution_count": 27,
   "metadata": {},
   "outputs": [
    {
     "name": "stdout",
     "output_type": "stream",
     "text": [
      "Index(['NOMBRE', 'APELLIDO', 'POBLACIÓN', 'FECHA-NACIMIENTO', 'EDAD'], dtype='object')\n",
      "NOMBRE\n"
     ]
    },
    {
     "data": {
      "text/plain": [
       "array(['ANTONIO', 'JOSE', 'MANUEL', ..., 'ZBIGNIEW JAN', 'ZHENGPING',\n",
       "       'ZLATAN'], dtype=object)"
      ]
     },
     "execution_count": 27,
     "metadata": {},
     "output_type": "execute_result"
    }
   ],
   "source": [
    "#Pruebas a descartar:\n",
    "column='NOMBRE'\n",
    "print(columns)\n",
    "print(column)\n",
    "non_null_values =df_combined[column].dropna().values\n",
    "non_null_values"
   ]
  },
  {
   "cell_type": "code",
   "execution_count": 28,
   "metadata": {},
   "outputs": [],
   "source": [
    "#Pruebas a descartar:\n",
    "def aceptar_numero_positivo(numero):\n",
    "    if numero <= 0:\n",
    "        raise ValueError(\"Solo se permiten números positivos\")"
   ]
  }
 ],
 "metadata": {
  "kernelspec": {
   "display_name": "Python 3",
   "language": "python",
   "name": "python3"
  },
  "language_info": {
   "codemirror_mode": {
    "name": "ipython",
    "version": 3
   },
   "file_extension": ".py",
   "mimetype": "text/x-python",
   "name": "python",
   "nbconvert_exporter": "python",
   "pygments_lexer": "ipython3",
   "version": "3.11.9"
  }
 },
 "nbformat": 4,
 "nbformat_minor": 2
}
