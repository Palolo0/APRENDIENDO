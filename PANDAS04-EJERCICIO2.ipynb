{
 "cells": [
  {
   "cell_type": "code",
   "execution_count": null,
   "metadata": {},
   "outputs": [],
   "source": [
    "import pandas as pd\n",
    "df_bien=pd.read_csv('archivo_grande_bien.csv')\n",
    "df_bien.to_csv('archivo_grande_mal.csv', index=False)\n"
   ]
  },
  {
   "cell_type": "code",
   "execution_count": null,
   "metadata": {},
   "outputs": [],
   "source": [
    "#PROGRAMA QUE INTRODUCE FALLOS EN UN CSV.\n",
    "\n",
    "df_moddat=pd.read_csv('archivo_grande_mal.csv',parse_dates=['FECHA-NACIMIENTO'])\n",
    "\n",
    "df_moddat.loc[306, 'APELLIDO'] = 'MARTINEZ'\n",
    "df_moddat.loc[10307, 'APELLIDO'] = 'gomez'\n",
    "df_moddat.loc[200308, 'APELLIDO'] = 'jonson'\n",
    "df_moddat.loc[309, 'APELLIDO'] = 'gabaldon'\n",
    "df_moddat.loc[310, 'NOMBRE'] = 'MARTINEZ'\n",
    "df_moddat.loc[311, 'EDAD'] = 'MARTINEZ'\n",
    "df_moddat.loc[312, 'FECHA-NACIMIENTO'] = '13/02/1982'\n",
    "\n",
    "\n",
    "\n",
    "df_moddat.to_csv('archivo_grande_mal.csv', index=False)\n",
    "\n"
   ]
  },
  {
   "cell_type": "code",
   "execution_count": null,
   "metadata": {},
   "outputs": [],
   "source": [
    "#programa que crea csv con fechas mal.\n",
    "# Crea un DataFrame con los datos\n",
    "data = {\n",
    "    'date': ['30MAR1990', '30JUN1990', '30SEP1990', '30DEC1990'],\n",
    "    'value': [140000, 30000, 120000, 34555]\n",
    "}\n",
    "\n",
    "df = pd.DataFrame(data)\n",
    "\n",
    "# Guarda el DataFrame en un archivo CSV llamado 'datos.csv'\n",
    "df.to_csv('FECHASMAL.csv', index=False)\n",
    "\n",
    "print(\"Archivo 'FECHASMAL.csv' creado exitosamente.\")"
   ]
  },
  {
   "cell_type": "code",
   "execution_count": null,
   "metadata": {},
   "outputs": [],
   "source": [
    "#ENTENDIENDO PARSE DATES\n",
    "import pandas as pd\n",
    "\n",
    "# Lee el archivo CSV y convierte la columna 'date' en formato de fechas\n",
    "df = pd.read_csv('FECHASMAL.csv', parse_dates=['date'])\n",
    "#y otra forma para crear el formato de fecha que yo quiera\n",
    "df['date'] = pd.to_datetime(df['date'], format='%d%b%Y')"
   ]
  },
  {
   "cell_type": "code",
   "execution_count": null,
   "metadata": {},
   "outputs": [],
   "source": [
    "#FORMATOS DE FECHA PARA USAR EN OTROS PROGRAMAS\n",
    "#Formato de año-mes-día:\n",
    "#%Y-%m-%d: Año, mes y día con guiones (por ejemplo, ‘2022-05-15’).\n",
    "#%y-%m-%d: Año, mes y día con guiones (formato de año abreviado, por ejemplo, ‘22-05-15’).\n",
    "#Formato de día-mes-año:\n",
    "#%d/%m/%Y: Día, mes y año con barras (por ejemplo, ‘15/05/2022’).\n",
    "#%d-%m-%Y: Día, mes y año con guiones (por ejemplo, ‘15-05-2022’).\n",
    "#Formato de mes-día-año:\n",
    "#%m/%d/%Y: Mes, día y año con barras (por ejemplo, ‘05/15/2022’).\n",
    "#%m-%d-%Y: Mes, día y año con guiones (por ejemplo, ‘05-15-2022’).\n",
    "#Formato de hora y fecha:\n",
    "#%Y-%m-%d %H:%M:%S: Año, mes, día, hora, minutos y segundos (por ejemplo, ‘2022-05-15 14:30:00’)."
   ]
  }
 ],
 "metadata": {
  "kernelspec": {
   "display_name": "Python 3",
   "language": "python",
   "name": "python3"
  },
  "language_info": {
   "codemirror_mode": {
    "name": "ipython",
    "version": 3
   },
   "file_extension": ".py",
   "mimetype": "text/x-python",
   "name": "python",
   "nbconvert_exporter": "python",
   "pygments_lexer": "ipython3",
   "version": "3.11.9"
  }
 },
 "nbformat": 4,
 "nbformat_minor": 2
}
