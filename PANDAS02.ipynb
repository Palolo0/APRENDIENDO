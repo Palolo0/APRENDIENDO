{
 "cells": [
  {
   "cell_type": "code",
   "execution_count": 1,
   "metadata": {},
   "outputs": [
    {
     "ename": "SyntaxError",
     "evalue": "cannot assign to expression (2321806989.py, line 11)",
     "output_type": "error",
     "traceback": [
      "\u001b[1;36m  Cell \u001b[1;32mIn[1], line 11\u001b[1;36m\u001b[0m\n\u001b[1;33m    lista+str(j)=\u001b[0m\n\u001b[1;37m    ^\u001b[0m\n\u001b[1;31mSyntaxError\u001b[0m\u001b[1;31m:\u001b[0m cannot assign to expression\n"
     ]
    }
   ],
   "source": [
    "#programa que me crea una data frame con las culumnas y filas que yo quiera\n",
    "\n",
    "import pandas as pd\n",
    "lista=[]\n",
    "columns=[]\n",
    "df=pd.DataFrame(lista)\n",
    "#lista =['col'+str(1)]\n",
    "for j in range(3):\n",
    "\n",
    "    for i in range(3):\n",
    "        lista+str(j)=\n",
    "        lista.append('col'+str(j)+'dat'+str(i))\n",
    "    df=pd.DataFrame(lista,columns=['COLUMNA-'+str(j)]) \n",
    "    # Agregar una nueva columna al DataFrame\n",
    "COLUMNA = pd.DataFrame(lista,columns=['COLUMNA-'+str(j)])  \n",
    "df['COLUM'] = COLUMNA      \n",
    "\n",
    "df\n"
   ]
  }
 ],
 "metadata": {
  "kernelspec": {
   "display_name": "Python 3",
   "language": "python",
   "name": "python3"
  },
  "language_info": {
   "codemirror_mode": {
    "name": "ipython",
    "version": 3
   },
   "file_extension": ".py",
   "mimetype": "text/x-python",
   "name": "python",
   "nbconvert_exporter": "python",
   "pygments_lexer": "ipython3",
   "version": "3.11.9"
  }
 },
 "nbformat": 4,
 "nbformat_minor": 2
}
