{
 "cells": [
  {
   "cell_type": "code",
   "execution_count": 6,
   "metadata": {},
   "outputs": [],
   "source": [
    "import pandas as pd\n",
    "df=pd.read_csv(\"FALLOS.csv\", sep=',',\n",
    "               dayfirst=True, parse_dates=['FECHA_CONTRATACION', ])\n",
    "df['TEST2']=1.2"
   ]
  },
  {
   "cell_type": "code",
   "execution_count": 5,
   "metadata": {},
   "outputs": [],
   "source": [
    "df.to_csv(\"FALLOS2.csv\", dayfirst=False, sep=';')"
   ]
  },
  {
   "cell_type": "code",
   "execution_count": null,
   "metadata": {},
   "outputs": [],
   "source": [
    "import pandas as pd"
   ]
  },
  {
   "cell_type": "code",
   "execution_count": null,
   "metadata": {},
   "outputs": [],
   "source": [
    "import pandas as pd"
   ]
  },
  {
   "cell_type": "code",
   "execution_count": null,
   "metadata": {},
   "outputs": [],
   "source": [
    "print(pd.__version__)"
   ]
  },
  {
   "cell_type": "code",
   "execution_count": null,
   "metadata": {},
   "outputs": [],
   "source": [
    "pip show pandas\n"
   ]
  },
  {
   "cell_type": "code",
   "execution_count": null,
   "metadata": {},
   "outputs": [],
   "source": []
  },
  {
   "cell_type": "code",
   "execution_count": null,
   "metadata": {},
   "outputs": [],
   "source": [
    "print(\"hola mundo\")\n",
    "dinero=16.6\n",
    "horas=3.5\n",
    "personas=5\n",
    "print(\"a la empresa la formacion le cuesta\")\n",
    "total=dinero*horas*personas\n",
    "print(total)\n",
    "print(\"euros\")\n",
    "print(\"cada uno recibe\")\n",
    "totalpersona=horas*dinero\n",
    "print(totalpersona)\n",
    "print(\"euros\")\n",
    "dinero=30\n",
    "horas=5.5\n",
    "print(\"a la empresa la formacion le cuesta\")\n",
    "total=dinero*horas*personas\n",
    "print(total)\n",
    "print(\"euros\")\n",
    "print(\"cada uno recibe\")\n",
    "totalpersona=horas*dinero\n",
    "print(totalpersona)\n",
    "print(\"euros\")"
   ]
  },
  {
   "cell_type": "code",
   "execution_count": null,
   "metadata": {},
   "outputs": [],
   "source": [
    "import funtions"
   ]
  },
  {
   "cell_type": "code",
   "execution_count": null,
   "metadata": {},
   "outputs": [],
   "source": [
    "import pandas as pd\n",
    "\n",
    "inicio = int(input('Introduce el año inicial: '))\n",
    "fin = int(input('Introduce el año final: '))\n",
    "ventas = {}\n",
    "for i in range(inicio, fin+1):\n",
    "    ventas[i] = float(input('Introduce las ventas del año ' + str(i) +': '))\n",
    "ventas = pd.Series(ventas)\n",
    "print('Ventas\\n', ventas)\n",
    "print('Ventas con descuento\\n', ventas*0.9)"
   ]
  },
  {
   "cell_type": "code",
   "execution_count": null,
   "metadata": {},
   "outputs": [],
   "source": [
    "import pandas as pd\n",
    "\n",
    "def estadistica_notas(notas):\n",
    "    notas = pd.Series(notas)\n",
    "    estadisticos = pd.Series([notas.min(), notas.max(), notas.mean(), notas.std()], index=['Min', 'Max', 'Media', 'Desviación típica'])\n",
    "    return estadisticos\n",
    "\n",
    "notas = {'Juan':10, 'María':6, 'Pedro':7.5, 'Carmen': 8.5, 'Luis': 5}\n",
    "print(estadistica_notas(notas))"
   ]
  },
  {
   "cell_type": "code",
   "execution_count": null,
   "metadata": {},
   "outputs": [],
   "source": [
    "notas = {'Juan':0, 'María':6.6, 'Pedro':7.5, 'Carmen': 8.5, 'Luis': 5}\n",
    "print(estadistica_notas(notas))"
   ]
  }
 ],
 "metadata": {
  "kernelspec": {
   "display_name": "Python 3",
   "language": "python",
   "name": "python3"
  },
  "language_info": {
   "codemirror_mode": {
    "name": "ipython",
    "version": 3
   },
   "file_extension": ".py",
   "mimetype": "text/x-python",
   "name": "python",
   "nbconvert_exporter": "python",
   "pygments_lexer": "ipython3",
   "version": "3.11.9"
  }
 },
 "nbformat": 4,
 "nbformat_minor": 2
}
