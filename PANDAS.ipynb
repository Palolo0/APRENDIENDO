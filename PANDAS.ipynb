{
 "cells": [
  {
   "cell_type": "code",
   "execution_count": null,
   "metadata": {},
   "outputs": [],
   "source": [
    "#INFORMACIÓN UTIL PARA TRABAJAR CON DATA FRAMES\n",
    "# \n",
    "# \n",
    "# import pandas as pd\n",
    "#df=pd.read_csv(\"hombres.csv\", sep=',')\n",
    "\n",
    "#aislar una columna\n",
    "#df['nombre']\n",
    "\n",
    "#aislar dos columnas\n",
    "#df[['nombre','edad_media']]\n",
    "\n",
    "#aislar una fila\n",
    "#df[df.index==2]\n",
    "\n",
    "#aislar dos o mas filas\n",
    "#df[df.index.isin(range(2,10))]\n",
    "\n",
    "#Leer diferentes archivos: xlsx, json, csv.\n",
    "#df=pd.read_csv(\"apellidos.csv\", sep=',')\n",
    "#df=pd.read_excel('Fechas.xlsx')\n",
    "#df=pd.read_json(\"poblaciones.json\")\n",
    "\n",
    "#df.head()\n",
    "#es para obtener una parte de la tabla, una fila [3] o varias [3:8], o unas en concreto [[3,7,12]]\n",
    "\n",
    "#Para copiar un data frame\n",
    "#df_hom=df.copy()\n",
    "\n",
    "#Para localizar en un data frame celdas\n",
    "#df_hom.loc[[3,7,12]]\n",
    "#df_hom.loc[100:110, ['nombre', 'frec', ]]\n",
    "#df_hom.loc[100,['nombre']]\n",
    "#coger solo los datos en los que la media vale...54.1\n",
    "# df[df.edad_media == 54.1]\n"
   ]
  },
  {
   "cell_type": "code",
   "execution_count": 25,
   "metadata": {},
   "outputs": [
    {
     "data": {
      "text/html": [
       "<div>\n",
       "<style scoped>\n",
       "    .dataframe tbody tr th:only-of-type {\n",
       "        vertical-align: middle;\n",
       "    }\n",
       "\n",
       "    .dataframe tbody tr th {\n",
       "        vertical-align: top;\n",
       "    }\n",
       "\n",
       "    .dataframe thead th {\n",
       "        text-align: right;\n",
       "    }\n",
       "</style>\n",
       "<table border=\"1\" class=\"dataframe\">\n",
       "  <thead>\n",
       "    <tr style=\"text-align: right;\">\n",
       "      <th></th>\n",
       "      <th>NOMBRE</th>\n",
       "      <th>APELLIDO</th>\n",
       "      <th>POBLACIÓN</th>\n",
       "      <th>FECHA-NACIMIENTO</th>\n",
       "      <th>EDAD</th>\n",
       "    </tr>\n",
       "  </thead>\n",
       "  <tbody>\n",
       "    <tr>\n",
       "      <th>0</th>\n",
       "      <td>ANTONIO</td>\n",
       "      <td>GARCIA</td>\n",
       "      <td>Euskadi</td>\n",
       "      <td>2023-10-08 00:00:00</td>\n",
       "      <td>1.0</td>\n",
       "    </tr>\n",
       "    <tr>\n",
       "      <th>1</th>\n",
       "      <td>JOSE</td>\n",
       "      <td>GONZALEZ</td>\n",
       "      <td>Gipuzkoa</td>\n",
       "      <td>20/05/2018</td>\n",
       "      <td>2.0</td>\n",
       "    </tr>\n",
       "    <tr>\n",
       "      <th>2</th>\n",
       "      <td>MANUEL</td>\n",
       "      <td>RODRIGUEZ</td>\n",
       "      <td>Bizkaia</td>\n",
       "      <td>2014-07-09 00:00:00</td>\n",
       "      <td>3.0</td>\n",
       "    </tr>\n",
       "    <tr>\n",
       "      <th>3</th>\n",
       "      <td>FRANCISCO</td>\n",
       "      <td>FERNANDEZ</td>\n",
       "      <td>Álava</td>\n",
       "      <td>27/04/1995</td>\n",
       "      <td>4.0</td>\n",
       "    </tr>\n",
       "    <tr>\n",
       "      <th>4</th>\n",
       "      <td>JUAN</td>\n",
       "      <td>LOPEZ</td>\n",
       "      <td>Euskadi</td>\n",
       "      <td>24/05/2010</td>\n",
       "      <td>5.0</td>\n",
       "    </tr>\n",
       "    <tr>\n",
       "      <th>...</th>\n",
       "      <td>...</td>\n",
       "      <td>...</td>\n",
       "      <td>...</td>\n",
       "      <td>...</td>\n",
       "      <td>...</td>\n",
       "    </tr>\n",
       "    <tr>\n",
       "      <th>25437</th>\n",
       "      <td>YUMIN</td>\n",
       "      <td>JORA</td>\n",
       "      <td>NaN</td>\n",
       "      <td>NaN</td>\n",
       "      <td>NaN</td>\n",
       "    </tr>\n",
       "    <tr>\n",
       "      <th>25438</th>\n",
       "      <td>ZAFAR IQBAL</td>\n",
       "      <td>KREMER</td>\n",
       "      <td>NaN</td>\n",
       "      <td>NaN</td>\n",
       "      <td>NaN</td>\n",
       "    </tr>\n",
       "    <tr>\n",
       "      <th>25439</th>\n",
       "      <td>ZBIGNIEW JAN</td>\n",
       "      <td>SARTORIUS</td>\n",
       "      <td>NaN</td>\n",
       "      <td>NaN</td>\n",
       "      <td>NaN</td>\n",
       "    </tr>\n",
       "    <tr>\n",
       "      <th>25440</th>\n",
       "      <td>ZHENGPING</td>\n",
       "      <td>ZAIT</td>\n",
       "      <td>NaN</td>\n",
       "      <td>NaN</td>\n",
       "      <td>NaN</td>\n",
       "    </tr>\n",
       "    <tr>\n",
       "      <th>25441</th>\n",
       "      <td>ZLATAN</td>\n",
       "      <td>PANADEIROS</td>\n",
       "      <td>NaN</td>\n",
       "      <td>NaN</td>\n",
       "      <td>NaN</td>\n",
       "    </tr>\n",
       "  </tbody>\n",
       "</table>\n",
       "<p>25442 rows × 5 columns</p>\n",
       "</div>"
      ],
      "text/plain": [
       "             NOMBRE    APELLIDO POBLACIÓN     FECHA-NACIMIENTO  EDAD\n",
       "0           ANTONIO      GARCIA   Euskadi  2023-10-08 00:00:00   1.0\n",
       "1              JOSE    GONZALEZ  Gipuzkoa           20/05/2018   2.0\n",
       "2            MANUEL   RODRIGUEZ   Bizkaia  2014-07-09 00:00:00   3.0\n",
       "3         FRANCISCO   FERNANDEZ     Álava           27/04/1995   4.0\n",
       "4              JUAN       LOPEZ   Euskadi           24/05/2010   5.0\n",
       "...             ...         ...       ...                  ...   ...\n",
       "25437         YUMIN        JORA       NaN                  NaN   NaN\n",
       "25438   ZAFAR IQBAL      KREMER       NaN                  NaN   NaN\n",
       "25439  ZBIGNIEW JAN   SARTORIUS       NaN                  NaN   NaN\n",
       "25440     ZHENGPING        ZAIT       NaN                  NaN   NaN\n",
       "25441        ZLATAN  PANADEIROS       NaN                  NaN   NaN\n",
       "\n",
       "[25442 rows x 5 columns]"
      ]
     },
     "execution_count": 25,
     "metadata": {},
     "output_type": "execute_result"
    }
   ],
   "source": [
    "#Creación de 1 único archivo csv que contenga columnas de varios archivos csv, xlsx, json, etc.\n",
    "#df=pd.DataFrame(combinado1_csv)\n",
    "#df['combinado_csv']=combinado_csv\n",
    "#d2f=pd.read_excel('Fechas.xlsx')\n",
    "#combinado1_csv=pd.DataFrame(df2)\n",
    "#df=pd.DataFrame(lista,columns=['COLUMNA-'+str(j)]) \n",
    "#combina todos los archivos de la lista\n",
    "#combinado_csv = pd.concat([pd.read_csv(f)])\n",
    "#exporta a csv\n",
    "#combinado_csv.to_csv( \"combinado_csv.csv\", index=False, encoding='utf-8-sig')\n",
    "\n",
    "#AÑADIR DATOS A UN DATA FRAME COLUMNAS MEJOR DICHO\n",
    "import pandas as pd\n",
    "df = pd.DataFrame()\n",
    "df1=pd.read_csv(\"hombres.csv\", sep=',')\n",
    "df['NOMBRE'] = df1['nombre']\n",
    "df2=pd.read_csv(\"apellidos.csv\", sep=',')\n",
    "df['APELLIDO'] = df2['apellido']\n",
    "df3=pd.read_json(\"poblaciones.json\")\n",
    "df['POBLACIÓN'] = df3['Categoria2Valor']\n",
    "df4 = pd.read_excel(\"Fechas.xlsx\")\n",
    "df['FECHA-NACIMIENTO'] = df4['Fechas']\n",
    "df5 = pd.read_excel(\"Fechas.xlsx\")\n",
    "df['EDAD'] = df5['Edad']\n",
    "\n",
    "#CONCATENAR-   df=pd.concat([df1,df2,df3,df4,df5],ignore_index=True)\n",
    "\n",
    "df\n",
    "#df['colnuv'] = combinado1_csv\n",
    "#combinado1_csv['nueva']=df['Company']\n",
    "#print(df)\n",
    "#combinado1_csv\n"
   ]
  },
  {
   "cell_type": "code",
   "execution_count": 48,
   "metadata": {},
   "outputs": [
    {
     "data": {
      "text/html": [
       "<div>\n",
       "<style scoped>\n",
       "    .dataframe tbody tr th:only-of-type {\n",
       "        vertical-align: middle;\n",
       "    }\n",
       "\n",
       "    .dataframe tbody tr th {\n",
       "        vertical-align: top;\n",
       "    }\n",
       "\n",
       "    .dataframe thead th {\n",
       "        text-align: right;\n",
       "    }\n",
       "</style>\n",
       "<table border=\"1\" class=\"dataframe\">\n",
       "  <thead>\n",
       "    <tr style=\"text-align: right;\">\n",
       "      <th></th>\n",
       "      <th>COLUMNA-2</th>\n",
       "      <th>COLUM</th>\n",
       "    </tr>\n",
       "  </thead>\n",
       "  <tbody>\n",
       "    <tr>\n",
       "      <th>0</th>\n",
       "      <td>col0dat0</td>\n",
       "      <td>col0dat0</td>\n",
       "    </tr>\n",
       "    <tr>\n",
       "      <th>1</th>\n",
       "      <td>col0dat1</td>\n",
       "      <td>col0dat1</td>\n",
       "    </tr>\n",
       "    <tr>\n",
       "      <th>2</th>\n",
       "      <td>col0dat2</td>\n",
       "      <td>col0dat2</td>\n",
       "    </tr>\n",
       "    <tr>\n",
       "      <th>3</th>\n",
       "      <td>col1dat0</td>\n",
       "      <td>col1dat0</td>\n",
       "    </tr>\n",
       "    <tr>\n",
       "      <th>4</th>\n",
       "      <td>col1dat1</td>\n",
       "      <td>col1dat1</td>\n",
       "    </tr>\n",
       "    <tr>\n",
       "      <th>5</th>\n",
       "      <td>col1dat2</td>\n",
       "      <td>col1dat2</td>\n",
       "    </tr>\n",
       "    <tr>\n",
       "      <th>6</th>\n",
       "      <td>col2dat0</td>\n",
       "      <td>col2dat0</td>\n",
       "    </tr>\n",
       "    <tr>\n",
       "      <th>7</th>\n",
       "      <td>col2dat1</td>\n",
       "      <td>col2dat1</td>\n",
       "    </tr>\n",
       "    <tr>\n",
       "      <th>8</th>\n",
       "      <td>col2dat2</td>\n",
       "      <td>col2dat2</td>\n",
       "    </tr>\n",
       "  </tbody>\n",
       "</table>\n",
       "</div>"
      ],
      "text/plain": [
       "  COLUMNA-2     COLUM\n",
       "0  col0dat0  col0dat0\n",
       "1  col0dat1  col0dat1\n",
       "2  col0dat2  col0dat2\n",
       "3  col1dat0  col1dat0\n",
       "4  col1dat1  col1dat1\n",
       "5  col1dat2  col1dat2\n",
       "6  col2dat0  col2dat0\n",
       "7  col2dat1  col2dat1\n",
       "8  col2dat2  col2dat2"
      ]
     },
     "execution_count": 48,
     "metadata": {},
     "output_type": "execute_result"
    }
   ],
   "source": [
    "#programa que me crea una data frame con las culumnas y filas que yo quiera_SIN TERMINAR\n",
    "\n",
    "import pandas as pd\n",
    "lista=[]\n",
    "columns=[]\n",
    "df=pd.DataFrame(lista)\n",
    "#lista =['col'+str(1)]\n",
    "for j in range(3):\n",
    "    for i in range(3):\n",
    "        lista.append('col'+str(j)+'dat'+str(i))\n",
    "    df=pd.DataFrame(lista,columns=['COLUMNA-'+str(j)]) \n",
    "    # Agregar una nueva columna al DataFrame\n",
    "COLUMNA = pd.DataFrame(lista,columns=['COLUMNA-'+str(j)])  \n",
    "df['COLUM'] = COLUMNA      \n",
    "\n",
    "df\n",
    "\n"
   ]
  },
  {
   "cell_type": "code",
   "execution_count": 69,
   "metadata": {},
   "outputs": [
    {
     "data": {
      "text/html": [
       "<div>\n",
       "<style scoped>\n",
       "    .dataframe tbody tr th:only-of-type {\n",
       "        vertical-align: middle;\n",
       "    }\n",
       "\n",
       "    .dataframe tbody tr th {\n",
       "        vertical-align: top;\n",
       "    }\n",
       "\n",
       "    .dataframe thead th {\n",
       "        text-align: right;\n",
       "    }\n",
       "</style>\n",
       "<table border=\"1\" class=\"dataframe\">\n",
       "  <thead>\n",
       "    <tr style=\"text-align: right;\">\n",
       "      <th></th>\n",
       "      <th>COLUMNA-</th>\n",
       "    </tr>\n",
       "  </thead>\n",
       "  <tbody>\n",
       "    <tr>\n",
       "      <th>0</th>\n",
       "      <td>dat0</td>\n",
       "    </tr>\n",
       "    <tr>\n",
       "      <th>1</th>\n",
       "      <td>dat1</td>\n",
       "    </tr>\n",
       "    <tr>\n",
       "      <th>2</th>\n",
       "      <td>dat2</td>\n",
       "    </tr>\n",
       "    <tr>\n",
       "      <th>3</th>\n",
       "      <td>dat3</td>\n",
       "    </tr>\n",
       "    <tr>\n",
       "      <th>4</th>\n",
       "      <td>dat4</td>\n",
       "    </tr>\n",
       "    <tr>\n",
       "      <th>5</th>\n",
       "      <td>dat5</td>\n",
       "    </tr>\n",
       "    <tr>\n",
       "      <th>6</th>\n",
       "      <td>dat6</td>\n",
       "    </tr>\n",
       "  </tbody>\n",
       "</table>\n",
       "</div>"
      ],
      "text/plain": [
       "  COLUMNA-\n",
       "0     dat0\n",
       "1     dat1\n",
       "2     dat2\n",
       "3     dat3\n",
       "4     dat4\n",
       "5     dat5\n",
       "6     dat6"
      ]
     },
     "execution_count": 69,
     "metadata": {},
     "output_type": "execute_result"
    }
   ],
   "source": [
    "#programa que me crea una data frame con n filas \n",
    "import pandas as pd\n",
    "n=7\n",
    "lista=[]\n",
    "columns=[]\n",
    "df11=pd.DataFrame(lista)\n",
    "#lista =['col'+str(1)]\n",
    "\n",
    "for i in range(n):\n",
    "        lista.append('dat'+str(i))\n",
    "df11=pd.DataFrame(lista,columns=['COLUMNA']) \n",
    "    # Agregar una nueva columna al DataFrame\n",
    "COLUMNA = pd.DataFrame(lista,columns=['COLUMNA'])  \n",
    "df11"
   ]
  },
  {
   "cell_type": "code",
   "execution_count": 27,
   "metadata": {},
   "outputs": [
    {
     "name": "stdout",
     "output_type": "stream",
     "text": [
      "0\n",
      "22429    MOFADAL\n",
      "Name: NOMBRE, dtype: object\n",
      "1\n",
      "654    ARGIMIRO\n",
      "Name: NOMBRE, dtype: object\n",
      "2\n",
      "3902    ZUHAITZ\n",
      "Name: NOMBRE, dtype: object\n"
     ]
    }
   ],
   "source": [
    "#coge n nombres al azar del df de la columna nombre\n",
    "import pandas as pd\n",
    "n=3\n",
    "for i in range(n):\n",
    "    print(i)\n",
    "    NOMAZAR=df['NOMBRE'].sample(n=1, random_state=i)\n",
    "    print(NOMAZAR)\n"
   ]
  },
  {
   "cell_type": "code",
   "execution_count": 84,
   "metadata": {},
   "outputs": [
    {
     "data": {
      "text/plain": [
       "['col1dat1', 'col1dat2', 'col1dat3']"
      ]
     },
     "execution_count": 84,
     "metadata": {},
     "output_type": "execute_result"
    }
   ],
   "source": [
    "#Crea una lista con n nombres\n",
    "import pandas as pd\n",
    "lista=[]\n",
    "df=pd.DataFrame(lista)\n",
    "lista.append(\"col1dat1\")\n",
    "lista.append(\"col1dat2\")\n",
    "lista.append(\"col1dat3\")\n",
    "lista"
   ]
  },
  {
   "cell_type": "code",
   "execution_count": 41,
   "metadata": {},
   "outputs": [
    {
     "data": {
      "text/plain": [
       "3902    ZUHAITZ\n",
       "Name: NOMBRE, dtype: object"
      ]
     },
     "execution_count": 41,
     "metadata": {},
     "output_type": "execute_result"
    }
   ],
   "source": [
    "i=2\n",
    "df['NOMBRE'].sample(n=1, random_state=i)\n"
   ]
  },
  {
   "cell_type": "code",
   "execution_count": 33,
   "metadata": {},
   "outputs": [
    {
     "data": {
      "text/html": [
       "<div>\n",
       "<style scoped>\n",
       "    .dataframe tbody tr th:only-of-type {\n",
       "        vertical-align: middle;\n",
       "    }\n",
       "\n",
       "    .dataframe tbody tr th {\n",
       "        vertical-align: top;\n",
       "    }\n",
       "\n",
       "    .dataframe thead th {\n",
       "        text-align: right;\n",
       "    }\n",
       "</style>\n",
       "<table border=\"1\" class=\"dataframe\">\n",
       "  <thead>\n",
       "    <tr style=\"text-align: right;\">\n",
       "      <th></th>\n",
       "      <th>0</th>\n",
       "    </tr>\n",
       "  </thead>\n",
       "  <tbody>\n",
       "    <tr>\n",
       "      <th>0</th>\n",
       "      <td>AB</td>\n",
       "    </tr>\n",
       "  </tbody>\n",
       "</table>\n",
       "</div>"
      ],
      "text/plain": [
       "    0\n",
       "0  AB"
      ]
     },
     "execution_count": 33,
     "metadata": {},
     "output_type": "execute_result"
    }
   ],
   "source": [
    "#suma de dos data frames\n",
    "# \n",
    "n=2\n",
    "df4=pd.DataFrame(['A'])\n",
    "df5=pd.DataFrame(['B'])\n",
    "df6=df4+df5\n",
    "df6"
   ]
  },
  {
   "cell_type": "code",
   "execution_count": 239,
   "metadata": {},
   "outputs": [
    {
     "data": {
      "text/plain": [
       "USA    6219    MASSAMBA\n",
       "Name: NOMBRE, dtype: object\n",
       "dtype: object"
      ]
     },
     "execution_count": 239,
     "metadata": {},
     "output_type": "execute_result"
    }
   ],
   "source": [
    "ser2 = pd.Series([df['NOMBRE'].sample(n=1, random_state=5555)],\n",
    "                 index = ['USA'])\n",
    "ser2"
   ]
  },
  {
   "cell_type": "code",
   "execution_count": null,
   "metadata": {},
   "outputs": [],
   "source": [
    "df['EDAD'] = df5['Edad']"
   ]
  },
  {
   "cell_type": "code",
   "execution_count": 198,
   "metadata": {},
   "outputs": [
    {
     "data": {
      "text/plain": [
       "['col1dat1', 'col1dat2', 'col1dat3']"
      ]
     },
     "execution_count": 198,
     "metadata": {},
     "output_type": "execute_result"
    }
   ],
   "source": [
    "#Crea una lista con n nombres\n",
    "import pandas as pd\n",
    "lista=[]\n",
    "df=pd.DataFrame(lista)\n",
    "lista.append(\"col1dat1\")\n",
    "lista.append(\"col1dat2\")\n",
    "lista.append(\"col1dat3\")\n",
    "lista"
   ]
  },
  {
   "cell_type": "code",
   "execution_count": 80,
   "metadata": {},
   "outputs": [
    {
     "name": "stdout",
     "output_type": "stream",
     "text": [
      "{'col1': [1, 2], 'col2': [3, 4]}\n"
     ]
    },
    {
     "data": {
      "text/html": [
       "<div>\n",
       "<style scoped>\n",
       "    .dataframe tbody tr th:only-of-type {\n",
       "        vertical-align: middle;\n",
       "    }\n",
       "\n",
       "    .dataframe tbody tr th {\n",
       "        vertical-align: top;\n",
       "    }\n",
       "\n",
       "    .dataframe thead th {\n",
       "        text-align: right;\n",
       "    }\n",
       "</style>\n",
       "<table border=\"1\" class=\"dataframe\">\n",
       "  <thead>\n",
       "    <tr style=\"text-align: right;\">\n",
       "      <th></th>\n",
       "      <th>col1</th>\n",
       "      <th>col2</th>\n",
       "    </tr>\n",
       "  </thead>\n",
       "  <tbody>\n",
       "    <tr>\n",
       "      <th>0</th>\n",
       "      <td>1</td>\n",
       "      <td>3</td>\n",
       "    </tr>\n",
       "    <tr>\n",
       "      <th>1</th>\n",
       "      <td>2</td>\n",
       "      <td>4</td>\n",
       "    </tr>\n",
       "  </tbody>\n",
       "</table>\n",
       "</div>"
      ],
      "text/plain": [
       "   col1  col2\n",
       "0     1     3\n",
       "1     2     4"
      ]
     },
     "execution_count": 80,
     "metadata": {},
     "output_type": "execute_result"
    }
   ],
   "source": [
    "#programa para localizar datos de un data frame\n",
    "d = {'col1': [1, 2], 'col2': [3, 4]}\n",
    "print(d)\n",
    "df = pd.DataFrame(data=d)\n",
    "df.iloc[[0,1]]"
   ]
  },
  {
   "cell_type": "code",
   "execution_count": 82,
   "metadata": {},
   "outputs": [
    {
     "name": "stdout",
     "output_type": "stream",
     "text": [
      "{'col3': [1, 2], 'col4': [3, 4]}\n"
     ]
    }
   ],
   "source": [
    "\n"
   ]
  }
 ],
 "metadata": {
  "kernelspec": {
   "display_name": "Python 3",
   "language": "python",
   "name": "python3"
  },
  "language_info": {
   "codemirror_mode": {
    "name": "ipython",
    "version": 3
   },
   "file_extension": ".py",
   "mimetype": "text/x-python",
   "name": "python",
   "nbconvert_exporter": "python",
   "pygments_lexer": "ipython3",
   "version": "3.11.9"
  }
 },
 "nbformat": 4,
 "nbformat_minor": 2
}
